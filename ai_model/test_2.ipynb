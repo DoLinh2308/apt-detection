{
 "cells": [
  {
   "cell_type": "code",
   "execution_count": null,
   "id": "bcad648b",
   "metadata": {},
   "outputs": [],
   "source": [
    "import joblib\n",
    "\n",
    "# Load the model\n",
    "loaded_model = joblib.load('model.pkl')\n",
    "\n",
    "# Load the scaler\n",
    "loaded_scaler = joblib.load('scaler.pkl')\n",
    "\n",
    "print(\"Model loaded successfully using joblib.\")\n",
    "print(\"Scaler loaded successfully using joblib.\")"
   ]
  },
  {
   "cell_type": "code",
   "execution_count": null,
   "id": "6b4bc1b4",
   "metadata": {},
   "outputs": [],
   "source": [
    "import pandas as pd\n",
    "\n",
    "# Assuming dapt2020_df is loaded with the DAPT2020 dataset\n",
    "# and numerical_features is a list of column names of numerical features\n",
    "\n",
    "dapt2020_numerical_data = dapt2020_df[numerical_features]\n",
    "scaled_dapt2020_numerical_data = loaded_scaler.transform(dapt2020_numerical_data)\n",
    "\n",
    "# Replace the original numerical features with the scaled ones in the DataFrame\n",
    "scaled_dapt2020_df = dapt2020_df.copy()\n",
    "scaled_dapt2020_df[numerical_features] = scaled_dapt2020_numerical_data"
   ]
  },
  {
   "cell_type": "code",
   "execution_count": 2,
   "id": "0b220a4c",
   "metadata": {},
   "outputs": [
    {
     "ename": "KeyError",
     "evalue": "\"['Label'] not found in axis\"",
     "output_type": "error",
     "traceback": [
      "\u001b[31m---------------------------------------------------------------------------\u001b[39m",
      "\u001b[31mKeyError\u001b[39m                                  Traceback (most recent call last)",
      "\u001b[36mCell\u001b[39m\u001b[36m \u001b[39m\u001b[32mIn[2]\u001b[39m\u001b[32m, line 16\u001b[39m\n\u001b[32m     13\u001b[39m dapt_df = pd.read_csv(dapt_data_path)\n\u001b[32m     15\u001b[39m \u001b[38;5;66;03m# Giả sử cột mục tiêu (label) là 'label' và các cột đặc trưng là phần còn lại\u001b[39;00m\n\u001b[32m---> \u001b[39m\u001b[32m16\u001b[39m X_dapt = \u001b[43mdapt_df\u001b[49m\u001b[43m.\u001b[49m\u001b[43mdrop\u001b[49m\u001b[43m(\u001b[49m\u001b[33;43m'\u001b[39;49m\u001b[33;43mLabel\u001b[39;49m\u001b[33;43m'\u001b[39;49m\u001b[43m,\u001b[49m\u001b[43m \u001b[49m\u001b[43maxis\u001b[49m\u001b[43m=\u001b[49m\u001b[32;43m1\u001b[39;49m\u001b[43m)\u001b[49m\n\u001b[32m     17\u001b[39m y_dapt = dapt_df[\u001b[33m'\u001b[39m\u001b[33mlabel\u001b[39m\u001b[33m'\u001b[39m]\n\u001b[32m     19\u001b[39m \u001b[38;5;66;03m# Xử lý dữ liệu bị thiếu (ví dụ: điền giá trị trung bình)\u001b[39;00m\n",
      "\u001b[36mFile \u001b[39m\u001b[32md:\\Do_an_tot_nghiep\\apt-detection\\.venv\\Lib\\site-packages\\pandas\\core\\frame.py:5581\u001b[39m, in \u001b[36mDataFrame.drop\u001b[39m\u001b[34m(self, labels, axis, index, columns, level, inplace, errors)\u001b[39m\n\u001b[32m   5433\u001b[39m \u001b[38;5;28;01mdef\u001b[39;00m\u001b[38;5;250m \u001b[39m\u001b[34mdrop\u001b[39m(\n\u001b[32m   5434\u001b[39m     \u001b[38;5;28mself\u001b[39m,\n\u001b[32m   5435\u001b[39m     labels: IndexLabel | \u001b[38;5;28;01mNone\u001b[39;00m = \u001b[38;5;28;01mNone\u001b[39;00m,\n\u001b[32m   (...)\u001b[39m\u001b[32m   5442\u001b[39m     errors: IgnoreRaise = \u001b[33m\"\u001b[39m\u001b[33mraise\u001b[39m\u001b[33m\"\u001b[39m,\n\u001b[32m   5443\u001b[39m ) -> DataFrame | \u001b[38;5;28;01mNone\u001b[39;00m:\n\u001b[32m   5444\u001b[39m \u001b[38;5;250m    \u001b[39m\u001b[33;03m\"\"\"\u001b[39;00m\n\u001b[32m   5445\u001b[39m \u001b[33;03m    Drop specified labels from rows or columns.\u001b[39;00m\n\u001b[32m   5446\u001b[39m \n\u001b[32m   (...)\u001b[39m\u001b[32m   5579\u001b[39m \u001b[33;03m            weight  1.0     0.8\u001b[39;00m\n\u001b[32m   5580\u001b[39m \u001b[33;03m    \"\"\"\u001b[39;00m\n\u001b[32m-> \u001b[39m\u001b[32m5581\u001b[39m     \u001b[38;5;28;01mreturn\u001b[39;00m \u001b[38;5;28;43msuper\u001b[39;49m\u001b[43m(\u001b[49m\u001b[43m)\u001b[49m\u001b[43m.\u001b[49m\u001b[43mdrop\u001b[49m\u001b[43m(\u001b[49m\n\u001b[32m   5582\u001b[39m \u001b[43m        \u001b[49m\u001b[43mlabels\u001b[49m\u001b[43m=\u001b[49m\u001b[43mlabels\u001b[49m\u001b[43m,\u001b[49m\n\u001b[32m   5583\u001b[39m \u001b[43m        \u001b[49m\u001b[43maxis\u001b[49m\u001b[43m=\u001b[49m\u001b[43maxis\u001b[49m\u001b[43m,\u001b[49m\n\u001b[32m   5584\u001b[39m \u001b[43m        \u001b[49m\u001b[43mindex\u001b[49m\u001b[43m=\u001b[49m\u001b[43mindex\u001b[49m\u001b[43m,\u001b[49m\n\u001b[32m   5585\u001b[39m \u001b[43m        \u001b[49m\u001b[43mcolumns\u001b[49m\u001b[43m=\u001b[49m\u001b[43mcolumns\u001b[49m\u001b[43m,\u001b[49m\n\u001b[32m   5586\u001b[39m \u001b[43m        \u001b[49m\u001b[43mlevel\u001b[49m\u001b[43m=\u001b[49m\u001b[43mlevel\u001b[49m\u001b[43m,\u001b[49m\n\u001b[32m   5587\u001b[39m \u001b[43m        \u001b[49m\u001b[43minplace\u001b[49m\u001b[43m=\u001b[49m\u001b[43minplace\u001b[49m\u001b[43m,\u001b[49m\n\u001b[32m   5588\u001b[39m \u001b[43m        \u001b[49m\u001b[43merrors\u001b[49m\u001b[43m=\u001b[49m\u001b[43merrors\u001b[49m\u001b[43m,\u001b[49m\n\u001b[32m   5589\u001b[39m \u001b[43m    \u001b[49m\u001b[43m)\u001b[49m\n",
      "\u001b[36mFile \u001b[39m\u001b[32md:\\Do_an_tot_nghiep\\apt-detection\\.venv\\Lib\\site-packages\\pandas\\core\\generic.py:4788\u001b[39m, in \u001b[36mNDFrame.drop\u001b[39m\u001b[34m(self, labels, axis, index, columns, level, inplace, errors)\u001b[39m\n\u001b[32m   4786\u001b[39m \u001b[38;5;28;01mfor\u001b[39;00m axis, labels \u001b[38;5;129;01min\u001b[39;00m axes.items():\n\u001b[32m   4787\u001b[39m     \u001b[38;5;28;01mif\u001b[39;00m labels \u001b[38;5;129;01mis\u001b[39;00m \u001b[38;5;129;01mnot\u001b[39;00m \u001b[38;5;28;01mNone\u001b[39;00m:\n\u001b[32m-> \u001b[39m\u001b[32m4788\u001b[39m         obj = \u001b[43mobj\u001b[49m\u001b[43m.\u001b[49m\u001b[43m_drop_axis\u001b[49m\u001b[43m(\u001b[49m\u001b[43mlabels\u001b[49m\u001b[43m,\u001b[49m\u001b[43m \u001b[49m\u001b[43maxis\u001b[49m\u001b[43m,\u001b[49m\u001b[43m \u001b[49m\u001b[43mlevel\u001b[49m\u001b[43m=\u001b[49m\u001b[43mlevel\u001b[49m\u001b[43m,\u001b[49m\u001b[43m \u001b[49m\u001b[43merrors\u001b[49m\u001b[43m=\u001b[49m\u001b[43merrors\u001b[49m\u001b[43m)\u001b[49m\n\u001b[32m   4790\u001b[39m \u001b[38;5;28;01mif\u001b[39;00m inplace:\n\u001b[32m   4791\u001b[39m     \u001b[38;5;28mself\u001b[39m._update_inplace(obj)\n",
      "\u001b[36mFile \u001b[39m\u001b[32md:\\Do_an_tot_nghiep\\apt-detection\\.venv\\Lib\\site-packages\\pandas\\core\\generic.py:4830\u001b[39m, in \u001b[36mNDFrame._drop_axis\u001b[39m\u001b[34m(self, labels, axis, level, errors, only_slice)\u001b[39m\n\u001b[32m   4828\u001b[39m         new_axis = axis.drop(labels, level=level, errors=errors)\n\u001b[32m   4829\u001b[39m     \u001b[38;5;28;01melse\u001b[39;00m:\n\u001b[32m-> \u001b[39m\u001b[32m4830\u001b[39m         new_axis = \u001b[43maxis\u001b[49m\u001b[43m.\u001b[49m\u001b[43mdrop\u001b[49m\u001b[43m(\u001b[49m\u001b[43mlabels\u001b[49m\u001b[43m,\u001b[49m\u001b[43m \u001b[49m\u001b[43merrors\u001b[49m\u001b[43m=\u001b[49m\u001b[43merrors\u001b[49m\u001b[43m)\u001b[49m\n\u001b[32m   4831\u001b[39m     indexer = axis.get_indexer(new_axis)\n\u001b[32m   4833\u001b[39m \u001b[38;5;66;03m# Case for non-unique axis\u001b[39;00m\n\u001b[32m   4834\u001b[39m \u001b[38;5;28;01melse\u001b[39;00m:\n",
      "\u001b[36mFile \u001b[39m\u001b[32md:\\Do_an_tot_nghiep\\apt-detection\\.venv\\Lib\\site-packages\\pandas\\core\\indexes\\base.py:7070\u001b[39m, in \u001b[36mIndex.drop\u001b[39m\u001b[34m(self, labels, errors)\u001b[39m\n\u001b[32m   7068\u001b[39m \u001b[38;5;28;01mif\u001b[39;00m mask.any():\n\u001b[32m   7069\u001b[39m     \u001b[38;5;28;01mif\u001b[39;00m errors != \u001b[33m\"\u001b[39m\u001b[33mignore\u001b[39m\u001b[33m\"\u001b[39m:\n\u001b[32m-> \u001b[39m\u001b[32m7070\u001b[39m         \u001b[38;5;28;01mraise\u001b[39;00m \u001b[38;5;167;01mKeyError\u001b[39;00m(\u001b[33mf\u001b[39m\u001b[33m\"\u001b[39m\u001b[38;5;132;01m{\u001b[39;00mlabels[mask].tolist()\u001b[38;5;132;01m}\u001b[39;00m\u001b[33m not found in axis\u001b[39m\u001b[33m\"\u001b[39m)\n\u001b[32m   7071\u001b[39m     indexer = indexer[~mask]\n\u001b[32m   7072\u001b[39m \u001b[38;5;28;01mreturn\u001b[39;00m \u001b[38;5;28mself\u001b[39m.delete(indexer)\n",
      "\u001b[31mKeyError\u001b[39m: \"['Label'] not found in axis\""
     ]
    }
   ],
   "source": [
    "import pickle\n",
    "import pandas as pd\n",
    "from sklearn.model_selection import train_test_split\n",
    "from sklearn.preprocessing import StandardScaler\n",
    "from sklearn.metrics import classification_report, accuracy_score\n",
    "\n",
    "# Đường dẫn đến các file đã lưu\n",
    "model_path = 'D:/Do_an_tot_nghiep/apt-detection/ai_model/dataset/working2/random_forest_model.pkl'\n",
    "scaler_path = 'D:/Do_an_tot_nghiep/apt-detection/ai_model/dataset/working2/scaler.pkl'\n",
    "dapt_data_path = 'D:/Do_an_tot_nghiep/apt-detection/ai_model/dataset/DAPT-2020/merged_cleaned.csv' # Thay bằng đường dẫn thực tế\n",
    "\n",
    "# 1. Chuẩn bị dữ liệu DAPT2020\n",
    "dapt_df = pd.read_csv(dapt_data_path)\n",
    "\n",
    "# Giả sử cột mục tiêu (label) là 'label' và các cột đặc trưng là phần còn lại\n",
    "X_dapt = dapt_df.drop('Label', axis=1)\n",
    "y_dapt = dapt_df['label']\n",
    "\n",
    "# Xử lý dữ liệu bị thiếu (ví dụ: điền giá trị trung bình)\n",
    "X_dapt = X_dapt.fillna(X_dapt.mean())\n",
    "\n",
    "# Chia dữ liệu\n",
    "X_train_dapt, X_test_dapt, y_train_dapt, y_test_dapt = train_test_split(\n",
    "    X_dapt, y_dapt, test_size=0.2, random_state=42\n",
    ")\n",
    "\n",
    "# 2. Tải mô hình và scaler đã được huấn luyện\n",
    "with open(model_path, 'rb') as file:\n",
    "    model = pickle.load(file)\n",
    "\n",
    "with open(scaler_path, 'rb') as file:\n",
    "    scaler = pickle.load(file)\n",
    "\n",
    "# 3. Tiền xử lý dữ liệu DAPT2020 với scaler đã tải\n",
    "X_train_scaled_dapt = scaler.transform(X_train_dapt)\n",
    "X_test_scaled_dapt = scaler.transform(X_test_dapt)\n",
    "\n",
    "# 4. Tinh chỉnh mô hình\n",
    "print(\"Bắt đầu quá trình tinh chỉnh mô hình...\")\n",
    "model.fit(X_train_scaled_dapt, y_train_dapt)\n",
    "print(\"Quá trình tinh chỉnh hoàn tất.\")\n",
    "\n",
    "# 5. Đánh giá mô hình đã tinh chỉnh\n",
    "y_pred_dapt = model.predict(X_test_scaled_dapt)\n",
    "\n",
    "print(\"\\nKết quả đánh giá trên tập kiểm thử DAPT2020:\")\n",
    "print(\"Accuracy:\", accuracy_score(y_test_dapt, y_pred_dapt))\n",
    "print(\"\\nClassification Report:\")\n",
    "print(classification_report(y_test_dapt, y_pred_dapt))\n",
    "\n",
    "# 6. Lưu mô hình đã tinh chỉnh (tùy chọn)\n",
    "# refined_model_path = 'refined_model.pkl'\n",
    "# with open(refined_model_path, 'wb') as file:\n",
    "#     pickle.dump(model, file)\n",
    "# print(f\"\\nMô hình đã tinh chỉnh được lưu tại: {refined_model_path}\")"
   ]
  }
 ],
 "metadata": {
  "kernelspec": {
   "display_name": ".venv",
   "language": "python",
   "name": "python3"
  },
  "language_info": {
   "codemirror_mode": {
    "name": "ipython",
    "version": 3
   },
   "file_extension": ".py",
   "mimetype": "text/x-python",
   "name": "python",
   "nbconvert_exporter": "python",
   "pygments_lexer": "ipython3",
   "version": "3.12.6"
  }
 },
 "nbformat": 4,
 "nbformat_minor": 5
}
